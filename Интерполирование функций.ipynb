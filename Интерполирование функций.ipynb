{
 "cells": [
  {
   "cell_type": "code",
   "execution_count": 282,
   "metadata": {},
   "outputs": [],
   "source": [
    "import numpy as np\n",
    "import matplotlib.pyplot as plt\n",
    "import math"
   ]
  },
  {
   "cell_type": "markdown",
   "metadata": {},
   "source": [
    "# Task 1"
   ]
  },
  {
   "cell_type": "code",
   "execution_count": 172,
   "metadata": {},
   "outputs": [],
   "source": [
    "a=1 #границы отрезка\n",
    "n=8 #колво узлов"
   ]
  },
  {
   "cell_type": "code",
   "execution_count": 341,
   "metadata": {},
   "outputs": [],
   "source": [
    "def f(x):\n",
    "    return (x**2 + 4*np.sin(x) - 2)"
   ]
  },
  {
   "cell_type": "code",
   "execution_count": 263,
   "metadata": {},
   "outputs": [],
   "source": [
    "#подсчет коэффициентов полинома Лагранжа\n",
    "def l_k(x, k, X):\n",
    "    l=1\n",
    "    for i in range(len(X)):\n",
    "        if i!=k:\n",
    "            l*=(x-X[i])/(X[k]-X[i])\n",
    "    return l"
   ]
  },
  {
   "cell_type": "code",
   "execution_count": 264,
   "metadata": {},
   "outputs": [],
   "source": [
    "# полином Лагранжа. Х-узлы\n",
    "def L1(x,X): \n",
    "    L=0\n",
    "    for i in range(len(X)):\n",
    "        L+=l_k(x,i,X)*f(X[i])\n",
    "    return L       "
   ]
  },
  {
   "cell_type": "code",
   "execution_count": 265,
   "metadata": {},
   "outputs": [],
   "source": [
    "# поиск корней полинома Чебышева\n",
    "def Ch(n,a):\n",
    "    X=[]\n",
    "    for i in range(n):\n",
    "        X.append(a*np.cos((2*i+1)/(2*n+2)*np.pi))\n",
    "    return X"
   ]
  },
  {
   "cell_type": "code",
   "execution_count": 266,
   "metadata": {},
   "outputs": [],
   "source": [
    "x=np.linspace(-a,a,num=100)\n",
    "X=np.linspace(-a,a, num=n)\n",
    "X_Ch=Ch(n,a)"
   ]
  },
  {
   "cell_type": "code",
   "execution_count": 267,
   "metadata": {},
   "outputs": [
    {
     "data": {
      "image/png": "[encoded data removed]",
      "text/plain": [
       "<Figure size 720x720 with 1 Axes>"
      ]
     },
     "metadata": {
      "needs_background": "light"
     },
     "output_type": "display_data"
    }
   ],
   "source": [
    "plt.rcParams[\"figure.figsize\"] = (10,10)\n",
    "fig = plt.figure()\n",
    "plt.plot(x, [f(_) for _ in x],'r-', label = 'f(x)')\n",
    "plt.plot(x, L1(x,X), 'b--', label = 'L1(x)')\n",
    "plt.plot(x, L1(x,X_Ch), 'g-.', label='L2(x)')\n",
    "plt.scatter(X, L1(X,X), color='blue', s=40, marker='o')\n",
    "plt.scatter(X_Ch, L1(X_Ch,X_Ch), color='green', s=40, marker='o')\n",
    "# plt.axis('equal')\n",
    "plt.legend()\n",
    "plt.show()"
   ]
  },
  {
   "cell_type": "code",
   "execution_count": 268,
   "metadata": {},
   "outputs": [],
   "source": [
    "# подсчет погрешности\n",
    "def E1(x,X):\n",
    "    max=0\n",
    "    for i in x:\n",
    "        diff=abs(f(i)-L1(i,X))\n",
    "        if diff>max:\n",
    "            max=diff\n",
    "    return max        "
   ]
  },
  {
   "cell_type": "code",
   "execution_count": 269,
   "metadata": {},
   "outputs": [
    {
     "name": "stdout",
     "output_type": "stream",
     "text": [
      "2.801459060286504e-07 4.2168052161173364e-08\n"
     ]
    }
   ],
   "source": [
    "print(E1(x,X),E1(x,X_Ch))"
   ]
  },
  {
   "cell_type": "code",
   "execution_count": 238,
   "metadata": {},
   "outputs": [
    {
     "name": "stdout",
     "output_type": "stream",
     "text": [
      "N\t 8 \t\t\t 9 \t\t\t 10 \t\t\t 3 \t\t\t 11 \t\t\t \n",
      "L_p\t0.11054689059636513 \t0.10598255717744287 \t0.09402641016590041 \t0.33066599311695083 \t0.09099001811794896 \t\n",
      "L_Ch\t0.11222824814150734 \t0.30418991063496126 \t0.09152291755225436 \t0.8223043574527638 \t0.2524108995636638 \t"
     ]
    }
   ],
   "source": [
    "N=np.random.choice(np.arange(3,12), size=5, replace=False) \n",
    "print('N\\t',end=' ')\n",
    "for i in N:\n",
    "    print(i,'\\t\\t\\t', end=' ')\n",
    "print('\\nL_p\\t', end='')\n",
    "for i in N:\n",
    "    X=np.linspace(-a,a, num=i)\n",
    "    print(E1(x,X),'\\t', end='')\n",
    "print('\\nL_Ch\\t', end='')\n",
    "for i in N:\n",
    "    X_Ch=Ch(i,a)\n",
    "    print(E1(x,X_Ch),'\\t', end='')"
   ]
  },
  {
   "cell_type": "markdown",
   "metadata": {},
   "source": [
    "# Task 2"
   ]
  },
  {
   "cell_type": "code",
   "execution_count": 178,
   "metadata": {},
   "outputs": [],
   "source": [
    "def h(x):\n",
    "    return f(x)*abs(x)"
   ]
  },
  {
   "cell_type": "code",
   "execution_count": 179,
   "metadata": {},
   "outputs": [],
   "source": [
    "# полином Лагранжа. Х-узлы\n",
    "def L2(x,X): \n",
    "    L=0\n",
    "    for i in range(len(X)):\n",
    "        L+=l_k(x,i,X)*h(X[i])\n",
    "    return L   "
   ]
  },
  {
   "cell_type": "code",
   "execution_count": 180,
   "metadata": {},
   "outputs": [],
   "source": [
    "# подсчет погрешности\n",
    "def E2(x,X):\n",
    "    max=0\n",
    "    for i in x:\n",
    "        diff=abs(h(i)-L2(i,X))\n",
    "        if diff>max:\n",
    "            max=diff\n",
    "    return max  "
   ]
  },
  {
   "cell_type": "code",
   "execution_count": 232,
   "metadata": {},
   "outputs": [
    {
     "name": "stdout",
     "output_type": "stream",
     "text": [
      "N\t 7 \t\t\t 6 \t\t\t 4 \t\t\t 11 \t\t\t 9 \t\t\t \n",
      "L_p\t0.21756112037009342 \t0.17043727141069676 \t0.2104005815439356 \t0.4459123190652457 \t0.23853053122817913 \t\n",
      "L_Ch\t0.6930661841147141 \t0.7137872377828423 \t0.2102204027609993 \t0.4354425622356679 \t0.10425182560030422 \t"
     ]
    }
   ],
   "source": [
    "x=np.linspace(-a,a,num=200)\n",
    "N=np.random.choice(np.arange(3,12), size=5, replace=False)      #np.random.randint(3, 12, )\n",
    "print('N\\t',end=' ')\n",
    "for i in N:\n",
    "    print(i,'\\t\\t\\t', end=' ')\n",
    "print('\\nL_p\\t', end='')\n",
    "for i in N:\n",
    "    X=np.linspace(-a,a, num=i)\n",
    "    print(E2(x,X),'\\t', end='')\n",
    "print('\\nL_Ch\\t', end='')\n",
    "for i in N:\n",
    "    X_Ch=Ch(i,a)\n",
    "    print(E2(x,X_Ch),'\\t', end='')"
   ]
  },
  {
   "cell_type": "code",
   "execution_count": 229,
   "metadata": {},
   "outputs": [
    {
     "data": {
      "image/png": "[encoded data removed]",
      "text/plain": [
       "<Figure size 720x720 with 1 Axes>"
      ]
     },
     "metadata": {
      "needs_background": "light"
     },
     "output_type": "display_data"
    }
   ],
   "source": [
    "plt.rcParams[\"figure.figsize\"] = (10,10)\n",
    "fig = plt.figure()\n",
    "plt.plot(x, [h(_) for _ in x],'r-', label = 'f(x)')\n",
    "plt.plot(x, L2(x,X), 'b--', label = 'L1(x)')\n",
    "plt.plot(x, L2(x,X_Ch), 'g-.', label='L2(x)')\n",
    "plt.scatter(X, L2(X,X), color='blue', s=40, marker='o')\n",
    "plt.scatter(X_Ch, L2(X_Ch,X_Ch), color='green', s=40, marker='o')\n",
    "# plt.axis('equal')\n",
    "plt.legend()\n",
    "plt.show()"
   ]
  },
  {
   "cell_type": "markdown",
   "metadata": {},
   "source": [
    "# TASK 3"
   ]
  },
  {
   "cell_type": "code",
   "execution_count": 246,
   "metadata": {},
   "outputs": [],
   "source": [
    "def f_1(x):\n",
    "    return (2*x + 4*np.cos(x))"
   ]
  },
  {
   "cell_type": "code",
   "execution_count": 349,
   "metadata": {},
   "outputs": [],
   "source": [
    "F=[f.__name__,f_1.__name__]"
   ]
  },
  {
   "cell_type": "code",
   "execution_count": 355,
   "metadata": {},
   "outputs": [],
   "source": [
    "def Hermite(x,X,m):\n",
    "    n=len(X)  # n data points, m derivatives\n",
    "    # derivative matrix\n",
    "    matrix=np.zeros((n,m)) \n",
    "    for i in range(n):\n",
    "        for j in range(m):\n",
    "            matrix[i,j]=F[j](X[i])\n",
    "    \n",
    "    return matrix"
   ]
  },
  {
   "cell_type": "code",
   "execution_count": 354,
   "metadata": {},
   "outputs": [
    {
     "data": {
      "text/plain": [
       "array([-1.,  0.,  1.])"
      ]
     },
     "execution_count": 354,
     "metadata": {},
     "output_type": "execute_result"
    }
   ],
   "source": [
    "X=np.linspace(-a,a, num=3)\n",
    "x=np.linspace(-a,a,num=200)\n",
    "M=Hermite(x,X,2)\n",
    "X"
   ]
  },
  {
   "cell_type": "code",
   "execution_count": 356,
   "metadata": {},
   "outputs": [
    {
     "data": {
      "text/plain": [
       "array([[-4.36588394,  0.16120922],\n",
       "       [-2.        ,  4.        ],\n",
       "       [ 2.36588394,  4.16120922]])"
      ]
     },
     "execution_count": 356,
     "metadata": {},
     "output_type": "execute_result"
    }
   ],
   "source": [
    "M"
   ]
  },
  {
   "cell_type": "code",
   "execution_count": 357,
   "metadata": {},
   "outputs": [],
   "source": [
    "def DividedDifference(X, df, m):\n",
    "    n=len(X)\n",
    "    dd=np.zeros((n*m, n*m)) # matrix of divided difference\n",
    "    z=np.zeros(n*m)\n",
    "    k=0 # row index\n",
    "    for i in range(n):\n",
    "        for j in range(m):\n",
    "#             k=(i-1)*m+j\n",
    "            print(k)\n",
    "            z[k]=X[i]\n",
    "            dd[k,0]=df[i,0]\n",
    "#             print(f'{ z[k,0]} | {dd[k,0]}')\n",
    "            for l in range(1,k):\n",
    "#                 print(f'{ dd[k,l-1]} | {dd[k-1,l-1]}\\n')\n",
    "                if dd[k,l-1]==dd[k-1,l-1]:\n",
    "                    dd[k,l]=df[i,l]/math.factorial(l-1)\n",
    "                else:\n",
    "                    print(z[k],z[k-l+1])\n",
    "                    dd[k,l]=(dd[k,l-1]-dd[k-1,l-1])/(z[k]-z[k-l+1])\n",
    "#                 print(f'{dd[k,l]}')\n",
    "            k+=1\n",
    "    print(dd)"
   ]
  },
  {
   "cell_type": "code",
   "execution_count": 358,
   "metadata": {},
   "outputs": [
    {
     "name": "stdout",
     "output_type": "stream",
     "text": [
      "0\n",
      "1\n",
      "2\n",
      "0.0 0.0\n",
      "3\n",
      "0.0 0.0\n",
      "4\n",
      "1.0 1.0\n",
      "1.0 0.0\n",
      "1.0 0.0\n",
      "5\n",
      "1.0 1.0\n",
      "1.0 0.0\n",
      "1.0 0.0\n",
      "[[-4.36588394  0.          0.          0.          0.          0.        ]\n",
      " [-4.36588394  0.          0.          0.          0.          0.        ]\n",
      " [-2.                 inf  0.          0.          0.          0.        ]\n",
      " [-2.          4.                -inf  0.          0.          0.        ]\n",
      " [ 2.36588394         inf         inf         inf  0.          0.        ]\n",
      " [ 2.36588394  4.16120922        -inf        -inf        -inf  0.        ]]\n"
     ]
    },
    {
     "name": "stderr",
     "output_type": "stream",
     "text": [
      "C:\\Users\\Public\\Anaconda3\\lib\\site-packages\\ipykernel_launcher.py:19: RuntimeWarning: divide by zero encountered in double_scalars\n"
     ]
    }
   ],
   "source": [
    "DividedDifference(X,M,2)"
   ]
  }
 ],
 "metadata": {
  "kernelspec": {
   "display_name": "Python 3",
   "language": "python",
   "name": "python3"
  },
  "language_info": {
   "codemirror_mode": {
    "name": "ipython",
    "version": 3
   },
   "file_extension": ".py",
   "mimetype": "text/x-python",
   "name": "python",
   "nbconvert_exporter": "python",
   "pygments_lexer": "ipython3",
   "version": "3.7.3"
  }
 },
 "nbformat": 4,
 "nbformat_minor": 2
}
